{
 "cells": [
  {
   "cell_type": "code",
   "execution_count": 38,
   "metadata": {},
   "outputs": [
    {
     "name": "stdout",
     "output_type": "stream",
     "text": [
      "Files already downloaded and verified\n"
     ]
    }
   ],
   "source": [
    "import utils\n",
    "import torch\n",
    "from model_search import Network\n",
    "import torchvision.datasets as dset\n",
    "from torch.autograd import Variable\n",
    "\n",
    "def infer(valid_queue, model, criterion):\n",
    "  objs = utils.AvgrageMeter()\n",
    "  top1 = utils.AvgrageMeter()\n",
    "  top5 = utils.AvgrageMeter()\n",
    "  model.eval()\n",
    "\n",
    "  for step, (input, target) in enumerate(valid_queue):\n",
    "    input = Variable(input, volatile=True).cuda()\n",
    "    target = Variable(target, volatile=True).cuda()\n",
    "\n",
    "    logits = model(input)\n",
    "    loss = criterion(logits, target)\n",
    "\n",
    "    prec1, prec5 = utils.accuracy(logits, target, topk=(1, 5))\n",
    "    n = input.size(0)\n",
    "    objs.update(loss.data[0], n)\n",
    "    top1.update(prec1.data[0], n)\n",
    "    top5.update(prec5.data[0], n)\n",
    "\n",
    "    if step % args.report_freq == 0:\n",
    "        print('valid',step, objs.avg, top1.avg, top5.avg)\n",
    "\n",
    "  return top1.avg, objs.avg\n",
    "\n",
    "from collections import namedtuple\n",
    "args = namedtuple(\"args\", ['cutout', 'report_freq'])(False, 10)\n",
    "train_transform, valid_transform = utils._data_transforms_cifar10(args)\n",
    "train_data = dset.CIFAR10('/home/yuezx/dataset.yzx/', train=True, download=True, transform=train_transform)"
   ]
  },
  {
   "cell_type": "code",
   "execution_count": 41,
   "metadata": {},
   "outputs": [
    {
     "name": "stdout",
     "output_type": "stream",
     "text": [
      "valid 0 8.773923873901367 0.0 0.0\n",
      "valid 10 5.835864760658958 7.2727272727272725 35.45454545454545\n",
      "valid 20 5.343898023877825 8.571428571428571 47.142857142857146\n",
      "valid 30 5.27610795728622 8.709677419354838 48.064516129032256\n",
      "valid 40 5.124170820887496 10.0 50.48780487804878\n",
      "valid 50 5.072431727951648 10.392156862745098 51.372549019607845\n",
      "valid 60 5.046553857990952 10.655737704918034 51.14754098360656\n",
      "valid 70 5.068150456522552 10.0 50.985915492957744\n",
      "valid 80 5.009497739650585 10.37037037037037 51.72839506172839\n",
      "valid 90 5.014650819065807 10.32967032967033 51.20879120879121\n"
     ]
    }
   ],
   "source": [
    "criterion = torch.nn.CrossEntropyLoss()\n",
    "criterion = criterion.cuda()\n",
    "\n",
    "model = Network(16, 10, 8, criterion)\n",
    "model.load_state_dict(torch.load(\"/home/yuezx/darts/cnn/search-EXP-20200902-231525/weights.pt\"))\n",
    "model = model.cuda()\n",
    "\n",
    "valid_queue = torch.utils.data.DataLoader(\n",
    "      train_data, batch_size=10,\n",
    "      sampler=torch.utils.data.sampler.SubsetRandomSampler(range(10000)[:1000]),\n",
    "      pin_memory=True, num_workers=2)\n",
    "\n",
    "valid_acc, valid_obj = infer(valid_queue, model, criterion)"
   ]
  },
  {
   "cell_type": "code",
   "execution_count": 40,
   "metadata": {},
   "outputs": [
    {
     "data": {
      "text/plain": [
       "(10.8, 101740.5732421875)"
      ]
     },
     "execution_count": 40,
     "metadata": {},
     "output_type": "execute_result"
    }
   ],
   "source": [
    "valid_acc, valid_obj"
   ]
  },
  {
   "cell_type": "code",
   "execution_count": null,
   "metadata": {},
   "outputs": [],
   "source": []
  }
 ],
 "metadata": {
  "kernelspec": {
   "display_name": "Python 3",
   "language": "python",
   "name": "python3"
  },
  "language_info": {
   "codemirror_mode": {
    "name": "ipython",
    "version": 3
   },
   "file_extension": ".py",
   "mimetype": "text/x-python",
   "name": "python",
   "nbconvert_exporter": "python",
   "pygments_lexer": "ipython3",
   "version": "3.5.5"
  }
 },
 "nbformat": 4,
 "nbformat_minor": 4
}
